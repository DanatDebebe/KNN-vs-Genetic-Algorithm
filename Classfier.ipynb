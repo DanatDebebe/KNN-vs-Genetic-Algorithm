{
 "cells": [
  {
   "cell_type": "code",
   "execution_count": 62,
   "metadata": {},
   "outputs": [],
   "source": [
    "import numpy as np\n",
    "import matplotlib as mp \n"
   ]
  },
  {
   "cell_type": "code",
   "execution_count": 63,
   "metadata": {},
   "outputs": [],
   "source": [
    "# loading all the points from the data files into arrays\n",
    "\n",
    "tset_file = open(\"data/training_set_v2\", \"r\")\n",
    "tlabel_file = open(\"data/training_labels_v2\", \"r\")\n",
    "vset_file = open(\"data/validation_set_v2\", \"r\")\n",
    "vlabel_file = open(\"data/validation_labels_v2\", \"r\")\n",
    "\n",
    "tset = []\n",
    "tlabel = []\n",
    "vset = []\n",
    "vlabel = []\n",
    "\n",
    "for i in tset_file.readlines():\n",
    "    x0,x1,x2 = i.split(sep=',')\n",
    "    tset += [[float(x0),float(x1),float(x2)]]\n",
    "\n",
    "tset_file.close()\n",
    "\n",
    "\n",
    "for i in tlabel_file.readlines():\n",
    "    di = i.split()\n",
    "    tlabel += [float(di[0])]\n",
    "\n",
    "tlabel_file.close()\n",
    "\n",
    "for i in vset_file.readlines():\n",
    "    x0,x1,x2 = i.split(sep=',')\n",
    "    vset += [[float(x0),float(x1),float(x2)]]\n",
    "\n",
    "vset_file.close()\n",
    "\n",
    "\n",
    "for i in vlabel_file.readlines():\n",
    "    di = i.split()\n",
    "    vlabel += [float(di[0])]\n",
    "\n",
    "vlabel_file.close()\n",
    "\n",
    "\n"
   ]
  },
  {
   "cell_type": "code",
   "execution_count": 64,
   "metadata": {},
   "outputs": [],
   "source": [
    "#returns the Eucledian distance between two points\n",
    "def euc_distance(p,y):\n",
    "    return (((p[0]-y[0])**2) +((p[1]-y[1])**2) + ((p[2]-y[2])**2))**0.5\n",
    "#returns the Manhattan distance between two points\n",
    "def man_distance(p,y):\n",
    "    return  abs(p[0] - y[0]) + abs(p[1] - y[1]) + abs(p[2] - y[2])\n"
   ]
  },
  {
   "cell_type": "code",
   "execution_count": 65,
   "metadata": {},
   "outputs": [
    {
     "data": {
      "text/plain": [
       "-1"
      ]
     },
     "execution_count": 65,
     "metadata": {},
     "output_type": "execute_result"
    }
   ],
   "source": [
    "def knn(k, testset, testlabel, newPt):\n",
    "    distances = []\n",
    "    labels =[]\n",
    "    for i, pt in enumerate(testset):\n",
    "        distances.append([i,euc_distance(pt, newPt)])\n",
    "    distances.sort(key=lambda x: x[1])\n",
    "    distances = distances[1:k]\n",
    "    for i, pt in distances:\n",
    "        labels.append(testlabel[i])\n",
    "    count = labels.count(-1)\n",
    "    count1 = labels.count(1)\n",
    "    if count>count1:\n",
    "        return -1\n",
    "    else:\n",
    "        return 1\n",
    "knn(5, tset, tlabel, vset[60])"
   ]
  },
  {
   "cell_type": "code",
   "execution_count": 66,
   "metadata": {},
   "outputs": [],
   "source": [
    "def error(pred, val):\n",
    "    misclassified = 0\n",
    "    for i in range(len(pred)):\n",
    "        if pred[i] != val[i]:\n",
    "            misclassified += 1\n",
    "    return misclassified/len(pred)\n"
   ]
  },
  {
   "cell_type": "code",
   "execution_count": 67,
   "metadata": {},
   "outputs": [],
   "source": [
    "def test(k):\n",
    "    classification_on_tdata = []\n",
    "    classification_on_vdata = []\n",
    "    print(\"k=\", k)\n",
    "    for pt in vset:\n",
    "        classification_on_vdata.append(knn(k, tset, tlabel, pt))\n",
    "        #classification_on_vdata.append(knn(7, vset, tlabel, pt))\n",
    "    print(\"classification error on validation set: \", error(classification_on_vdata,vlabel))\n",
    "    for pt in tset:\n",
    "        classification_on_tdata.append(knn(k, tset, tlabel, pt))\n",
    "        #classification_on_vdata.append(knn(7, vset, tlabel, pt))\n",
    "    print(\"classification error on training set: \", error(classification_on_tdata,tlabel), \"\\n\")\n",
    "\n",
    "def runTests():\n",
    "    test(7)\n",
    "    test(19)\n",
    "    test(31)\n"
   ]
  },
  {
   "cell_type": "code",
   "execution_count": 68,
   "metadata": {},
   "outputs": [
    {
     "name": "stdout",
     "output_type": "stream",
     "text": [
      "k= 7\n",
      "classification error on validation set:  0.04814814814814815\n",
      "classification error on training set:  0.03888888888888889 \n",
      "\n",
      "k= 19\n",
      "classification error on validation set:  0.05740740740740741\n",
      "classification error on training set:  0.03611111111111111 \n",
      "\n",
      "k= 31\n",
      "classification error on validation set:  0.053703703703703705\n",
      "classification error on training set:  0.03611111111111111 \n",
      "\n"
     ]
    }
   ],
   "source": [
    "runTests()"
   ]
  },
  {
   "cell_type": "code",
   "execution_count": null,
   "metadata": {},
   "outputs": [],
   "source": []
  }
 ],
 "metadata": {
  "kernelspec": {
   "display_name": "Python 3.10.11 ('myenv': venv)",
   "language": "python",
   "name": "python3"
  },
  "language_info": {
   "codemirror_mode": {
    "name": "ipython",
    "version": 3
   },
   "file_extension": ".py",
   "mimetype": "text/x-python",
   "name": "python",
   "nbconvert_exporter": "python",
   "pygments_lexer": "ipython3",
   "version": "3.10.11"
  },
  "orig_nbformat": 4,
  "vscode": {
   "interpreter": {
    "hash": "bf894423ac1b2d82951f5991d7f1bd657c6232e06083f723021ca9cf3b750da9"
   }
  }
 },
 "nbformat": 4,
 "nbformat_minor": 2
}
