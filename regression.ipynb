{
 "cells": [
  {
   "cell_type": "code",
   "execution_count": 110,
   "metadata": {},
   "outputs": [],
   "source": [
    "import numpy as np\n",
    "import matplotlib as mp\n",
    "import time\n",
    "import random"
   ]
  },
  {
   "cell_type": "code",
   "execution_count": 111,
   "metadata": {},
   "outputs": [],
   "source": [
    "# parameters for genetic algorithm\n",
    "max_weight = 10\n",
    "population_size = 15\n",
    "mutation_probability = 0.02\n",
    "crossover_probability = 0.8\n",
    "generations = 10"
   ]
  },
  {
   "cell_type": "code",
   "execution_count": 112,
   "metadata": {},
   "outputs": [],
   "source": [
    "# loading all the points from the data files into arrays\n",
    "\n",
    "tset_file = open(\"data/training_set_v2\", \"r\")\n",
    "tlabel_file = open(\"data/training_labels_v2\", \"r\")\n",
    "vset_file = open(\"data/validation_set_v2\", \"r\")\n",
    "vlabel_file = open(\"data/validation_labels_v2\", \"r\")\n",
    "\n",
    "tset = []\n",
    "tlabel = []\n",
    "vset = []\n",
    "vlabel = []\n",
    "\n",
    "for i in tset_file.readlines():\n",
    "    x0,x1,x2 = i.split(sep=',')\n",
    "    tset += [[float(x0),float(x1),float(x2)]]\n",
    "\n",
    "tset_file.close()\n",
    "\n",
    "\n",
    "for i in tlabel_file.readlines():\n",
    "    di = i.split()\n",
    "    tlabel += [float(di[0])]\n",
    "\n",
    "tlabel_file.close()\n",
    "\n",
    "for i in vset_file.readlines():\n",
    "    x0,x1,x2 = i.split(sep=',')\n",
    "    vset += [[float(x0),float(x1),float(x2)]]\n",
    "\n",
    "vset_file.close()\n",
    "\n",
    "\n",
    "for i in vlabel_file.readlines():\n",
    "    di = i.split()\n",
    "    vlabel += [float(di[0])]\n",
    "\n",
    "vlabel_file.close()"
   ]
  },
  {
   "cell_type": "code",
   "execution_count": 113,
   "metadata": {},
   "outputs": [
    {
     "name": "stdout",
     "output_type": "stream",
     "text": [
      "Generated population of size  8\n"
     ]
    }
   ],
   "source": [
    "#ao ∈ [0, 2], a1 ∈ [−2, 0], and a2 ∈ [−1, 1].\n",
    "def my_fun(x,y,a0,a1,a2):\n",
    "    return (a0*np.cbrt(x-5)) + a1*np.cbrt(y+5) + a2\n",
    "\n",
    "def obj_function(pred, actVal):\n",
    "    #computing the mean square error\n",
    "    return np.square(np.subtract(pred, actVal)).mean() \n",
    "\n",
    "def gen_population(size):\n",
    "    population = []\n",
    "    for _ in range(size):\n",
    "        population.append([random.randrange(0,3), random.randrange(-2,1), random.randrange(-1,2)])\n",
    "    \n",
    "    print(\"Generated population of size \", size)\n",
    "    return population\n",
    "\n",
    "def evaluate(chromosome):\n",
    "    predictions = []\n",
    "    \n",
    "    for i in range(len(tlabel)):\n",
    "        predictions.append(my_fun(tset[i][0],tset[i][0],chromosome[0], chromosome[1], chromosome[2]))\n",
    "    \n",
    "    fitness = obj_function(predictions, tlabel)\n",
    "    return -fitness\n",
    "pop = gen_population(8)"
   ]
  },
  {
   "cell_type": "code",
   "execution_count": 114,
   "metadata": {},
   "outputs": [],
   "source": [
    "def roulette_wheel_selection(population):\n",
    "    fitness_values = [evaluate(chromosome) for chromosome in population]\n",
    "    total_fitness = sum(fitness_values)\n",
    "\n",
    "    # Calculate selection probabilities\n",
    "    selection_probs = [fitness / total_fitness for fitness in fitness_values]\n",
    "\n",
    "    # Perform roulette wheel spin\n",
    "    selected_index = -1\n",
    "    spin = random.uniform(0, 1)\n",
    "    cumulative_prob = 0.0\n",
    "\n",
    "    for i, prob in enumerate(selection_probs):\n",
    "        cumulative_prob += prob\n",
    "        if spin <= cumulative_prob:\n",
    "            selected_index = i\n",
    "            break\n",
    "\n",
    "    return population[selected_index]\n",
    "def select_parents(population):\n",
    "    parents = []\n",
    "    #generate parent pairs array the half the size of the population\n",
    "    for _ in range(len(population)//2):\n",
    "        parents.append([roulette_wheel_selection(population),roulette_wheel_selection(population)])\n",
    "    return parents\n",
    "parent_pairs = select_parents(pop)"
   ]
  },
  {
   "cell_type": "code",
   "execution_count": 117,
   "metadata": {},
   "outputs": [
    {
     "name": "stdout",
     "output_type": "stream",
     "text": [
      "Crossover beetween [ 0 -2  0] and [ 1 -2  0] Resulted in [ 0.90497936 -2.          0.        ] and [ 0.09502064 -2.          0.        ]\n",
      "Crossover beetween [ 2 -2  1] and [ 1 -2  1] Resulted in [ 1.54355941 -2.          1.        ] and [ 1.45644059 -2.          1.        ]\n",
      "Crossover beetween [ 1 -2  0] and [1 0 1] Resulted in [ 1.         -1.76328773  0.11835614] and [ 1.         -0.23671227  0.88164386]\n",
      "Crossover beetween [ 0  0 -1] and [ 1 -2  1] Resulted in [ 0.91712958 -1.83425917  0.83425917] and [ 0.08287042 -0.16574083 -0.83425917]\n"
     ]
    }
   ],
   "source": [
    "\n",
    "# Function to perform uniform crossover between two parents\n",
    "def uniform_crossover(parent1, parent2):\n",
    "    # Create an empty child chromosome\n",
    "    child1 = [None]*3\n",
    "    child2 = [None]*3\n",
    "\n",
    "    # Uniformly select genes from parents to create the child chromosome\n",
    "    for _ in range(len(parent1)):\n",
    "        r = random.uniform(0,1)\n",
    "        child1 = parent1 * r + parent2*(1-r)\n",
    "        child2 = parent1 * (1-r) + parent2 * r\n",
    "    print(f\"Crossover beetween {parent1} and {parent2} Resulted in {child1} and {child2}\")\n",
    "    #print(f\"Resulted in {child1} and {child2}\\n\")\n",
    "    return child1, child2\n",
    "\n",
    "for i in parent_pairs:\n",
    "    uniform_crossover(np.array(i[0]),np.array(i[1]))\n"
   ]
  },
  {
   "cell_type": "code",
   "execution_count": 116,
   "metadata": {},
   "outputs": [
    {
     "ename": "SyntaxError",
     "evalue": "incomplete input (532791383.py, line 3)",
     "output_type": "error",
     "traceback": [
      "\u001b[1;36m  Cell \u001b[1;32mIn[116], line 3\u001b[1;36m\u001b[0m\n\u001b[1;33m    \u001b[0m\n\u001b[1;37m    ^\u001b[0m\n\u001b[1;31mSyntaxError\u001b[0m\u001b[1;31m:\u001b[0m incomplete input\n"
     ]
    }
   ],
   "source": [
    "def mutate(chromosome):\n",
    "    mutated = False\n",
    "    for i in range(len(chromosome)):\n",
    "        if random.uniform(0,1) <= mutation_probability:\n",
    "            print(f\"Performing mutation on chromosome {chromosome} at index {i}\")\n",
    "            mutated = True\n",
    "            \n",
    "    if mutated:\n",
    "        print(f\"Resulting chromosome: {chromosome}\\n\")\n",
    "    else:\n",
    "        print(f\"No mutation for {chromosome}\\n\")\n",
    "    \n",
    "    return chromosome\n",
    "\n",
    "    \n",
    "    "
   ]
  },
  {
   "cell_type": "code",
   "execution_count": null,
   "metadata": {},
   "outputs": [],
   "source": []
  },
  {
   "cell_type": "code",
   "execution_count": null,
   "metadata": {},
   "outputs": [],
   "source": []
  }
 ],
 "metadata": {
  "kernelspec": {
   "display_name": "Python 3.10.11 64-bit (microsoft store)",
   "language": "python",
   "name": "python3"
  },
  "language_info": {
   "codemirror_mode": {
    "name": "ipython",
    "version": 3
   },
   "file_extension": ".py",
   "mimetype": "text/x-python",
   "name": "python",
   "nbconvert_exporter": "python",
   "pygments_lexer": "ipython3",
   "version": "3.10.11"
  },
  "orig_nbformat": 4,
  "vscode": {
   "interpreter": {
    "hash": "91b96a9ed67b63b0c49ab3fdd2115db8d3b35c278f9adf4a92254752479f7578"
   }
  }
 },
 "nbformat": 4,
 "nbformat_minor": 2
}
